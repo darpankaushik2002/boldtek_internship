{
 "cells": [
  {
   "cell_type": "code",
   "execution_count": 23,
   "metadata": {},
   "outputs": [],
   "source": [
    "import pandas as pd\n",
    "import numpy as np\n",
    "import matplotlib.pyplot as plt\n",
    "import seaborn as sns\n",
    "from datetime import datetime\n",
    "from sklearn.model_selection import train_test_split\n",
    "from sklearn.preprocessing import StandardScaler, LabelEncoder\n",
    "from sklearn.ensemble import RandomForestClassifier, AdaBoostClassifier, GradientBoostingClassifier, BaggingClassifier\n",
    "from sklearn.metrics import classification_report, accuracy_score, confusion_matrix\n",
    "from sklearn.ensemble import HistGradientBoostingClassifier\n",
    "from sklearn.metrics import classification_report, accuracy_score, confusion_matrix,precision_score,recall_score,f1_score\n",
    "\n",
    "\n"
   ]
  },
  {
   "cell_type": "code",
   "execution_count": 5,
   "metadata": {},
   "outputs": [
    {
     "data": {
      "text/html": [
       "<div>\n",
       "<style scoped>\n",
       "    .dataframe tbody tr th:only-of-type {\n",
       "        vertical-align: middle;\n",
       "    }\n",
       "\n",
       "    .dataframe tbody tr th {\n",
       "        vertical-align: top;\n",
       "    }\n",
       "\n",
       "    .dataframe thead th {\n",
       "        text-align: right;\n",
       "    }\n",
       "</style>\n",
       "<table border=\"1\" class=\"dataframe\">\n",
       "  <thead>\n",
       "    <tr style=\"text-align: right;\">\n",
       "      <th></th>\n",
       "      <th>InvoiceNo</th>\n",
       "      <th>StockCode</th>\n",
       "      <th>Description</th>\n",
       "      <th>Quantity</th>\n",
       "      <th>InvoiceDate</th>\n",
       "      <th>UnitPrice</th>\n",
       "      <th>CustomerID</th>\n",
       "      <th>Country</th>\n",
       "    </tr>\n",
       "  </thead>\n",
       "  <tbody>\n",
       "    <tr>\n",
       "      <th>0</th>\n",
       "      <td>536365</td>\n",
       "      <td>85123A</td>\n",
       "      <td>WHITE HANGING HEART T-LIGHT HOLDER</td>\n",
       "      <td>6</td>\n",
       "      <td>12/1/2010 8:26</td>\n",
       "      <td>2.55</td>\n",
       "      <td>17850.0</td>\n",
       "      <td>United Kingdom</td>\n",
       "    </tr>\n",
       "    <tr>\n",
       "      <th>1</th>\n",
       "      <td>536365</td>\n",
       "      <td>71053</td>\n",
       "      <td>WHITE METAL LANTERN</td>\n",
       "      <td>6</td>\n",
       "      <td>12/1/2010 8:26</td>\n",
       "      <td>3.39</td>\n",
       "      <td>17850.0</td>\n",
       "      <td>United Kingdom</td>\n",
       "    </tr>\n",
       "    <tr>\n",
       "      <th>2</th>\n",
       "      <td>536365</td>\n",
       "      <td>84406B</td>\n",
       "      <td>CREAM CUPID HEARTS COAT HANGER</td>\n",
       "      <td>8</td>\n",
       "      <td>12/1/2010 8:26</td>\n",
       "      <td>2.75</td>\n",
       "      <td>17850.0</td>\n",
       "      <td>United Kingdom</td>\n",
       "    </tr>\n",
       "    <tr>\n",
       "      <th>3</th>\n",
       "      <td>536365</td>\n",
       "      <td>84029G</td>\n",
       "      <td>KNITTED UNION FLAG HOT WATER BOTTLE</td>\n",
       "      <td>6</td>\n",
       "      <td>12/1/2010 8:26</td>\n",
       "      <td>3.39</td>\n",
       "      <td>17850.0</td>\n",
       "      <td>United Kingdom</td>\n",
       "    </tr>\n",
       "    <tr>\n",
       "      <th>4</th>\n",
       "      <td>536365</td>\n",
       "      <td>84029E</td>\n",
       "      <td>RED WOOLLY HOTTIE WHITE HEART.</td>\n",
       "      <td>6</td>\n",
       "      <td>12/1/2010 8:26</td>\n",
       "      <td>3.39</td>\n",
       "      <td>17850.0</td>\n",
       "      <td>United Kingdom</td>\n",
       "    </tr>\n",
       "  </tbody>\n",
       "</table>\n",
       "</div>"
      ],
      "text/plain": [
       "  InvoiceNo StockCode                          Description  Quantity  \\\n",
       "0    536365    85123A   WHITE HANGING HEART T-LIGHT HOLDER         6   \n",
       "1    536365     71053                  WHITE METAL LANTERN         6   \n",
       "2    536365    84406B       CREAM CUPID HEARTS COAT HANGER         8   \n",
       "3    536365    84029G  KNITTED UNION FLAG HOT WATER BOTTLE         6   \n",
       "4    536365    84029E       RED WOOLLY HOTTIE WHITE HEART.         6   \n",
       "\n",
       "      InvoiceDate  UnitPrice  CustomerID         Country  \n",
       "0  12/1/2010 8:26       2.55     17850.0  United Kingdom  \n",
       "1  12/1/2010 8:26       3.39     17850.0  United Kingdom  \n",
       "2  12/1/2010 8:26       2.75     17850.0  United Kingdom  \n",
       "3  12/1/2010 8:26       3.39     17850.0  United Kingdom  \n",
       "4  12/1/2010 8:26       3.39     17850.0  United Kingdom  "
      ]
     },
     "execution_count": 5,
     "metadata": {},
     "output_type": "execute_result"
    }
   ],
   "source": [
    "# Load dataset\n",
    "df = pd.read_csv(r\"D:\\boldtek_internship\\clv_data.csv\", encoding=\"ISO-8859-1\")\n",
    "# Display first few rows\n",
    "df.head()\n"
   ]
  },
  {
   "cell_type": "code",
   "execution_count": null,
   "metadata": {},
   "outputs": [],
   "source": [
    "# --- Missing Value Handling ---\n",
    "print(\"Missing values before handling:\")\n",
    "print(df.isnull().sum())\n",
    "\n",
    "# Handle missing CustomerID\n",
    "# Since CustomerID is crucial for CLV, you might drop rows where it's missing\n",
    "df.dropna(subset=['CustomerID'], inplace=True)\n",
    "\n",
    "# Handle other missing values (e.g., Description)\n",
    "# If 'Description' has missing values, you might fill them with 'Unknown'\n",
    "df['Description'].fillna('Unknown', inplace=True)\n",
    "\n",
    "# Check missing values after handling\n",
    "print(\"\\nMissing values after handling:\")\n",
    "print(df.isnull().sum())"
   ]
  },
  {
   "cell_type": "code",
   "execution_count": null,
   "metadata": {},
   "outputs": [],
   "source": [
    "# --- Handling Inconsistent Data ---\n",
    "# Check for inconsistencies in 'Country'\n",
    "print(\"\\nUnique values in Country:\")\n",
    "print(df['Country'].unique())\n",
    "\n",
    "# Standardize 'Country' (example: convert to uppercase)\n",
    "df['Country'] = df['Country'].str.upper()\n",
    "print(\"\\nUnique values in Country after standardization:\")\n",
    "print(df['Country'].unique())\n",
    "\n",
    "# Check for inconsistencies in 'StockCode'\n",
    "print(\"\\nUnique values in StockCode:\")\n",
    "print(df['StockCode'].unique()[:50])  # Print only the first 50 for brevity\n",
    "\n",
    "# Handle StockCode inconsistencies (if needed, example: remove leading/trailing spaces)\n",
    "df['StockCode'] = df['StockCode'].str.strip()\n",
    "print(\"\\nUnique values in StockCode after standardization:\")\n",
    "print(df['StockCode'].unique()[:50])"
   ]
  },
  {
   "cell_type": "code",
   "execution_count": null,
   "metadata": {},
   "outputs": [],
   "source": [
    "# --- Outlier Handling ---\n",
    "# Outlier handling for 'Quantity' and 'UnitPrice' using IQR\n",
    "def remove_outliers_iqr(df, column):\n",
    "    Q1 = df[column].quantile(0.25)\n",
    "    Q3 = df[column].quantile(0.75)\n",
    "    IQR = Q3 - Q1\n",
    "    lower_bound = Q1 - 1.5 * IQR\n",
    "    upper_bound = Q3 + 1.5 * IQR\n",
    "    return df[(df[column] >= lower_bound) & (df[column] <= upper_bound)]\n",
    "\n",
    "df = remove_outliers_iqr(df, 'Quantity')\n",
    "df = remove_outliers_iqr(df, 'UnitPrice')\n",
    "\n",
    "print(\"\\nOutliers handled for Quantity and UnitPrice\")"
   ]
  },
  {
   "cell_type": "code",
   "execution_count": null,
   "metadata": {},
   "outputs": [],
   "source": [
    "# --- Data Type Conversion ---\n",
    "# Check if 'InvoiceDate' is already datetime\n",
    "if not pd.api.types.is_datetime64_any_dtype(df['InvoiceDate']):\n",
    "    df['InvoiceDate'] = pd.to_datetime(df['InvoiceDate'])\n",
    "\n",
    "# Check if 'CustomerID' is already integer\n",
    "if not pd.api.types.is_integer_dtype(df['CustomerID']):\n",
    "    df['CustomerID'] = df['CustomerID'].astype(int)\n",
    "\n",
    "print(\"\\nData types checked and converted as needed\")"
   ]
  },
  {
   "cell_type": "code",
   "execution_count": null,
   "metadata": {},
   "outputs": [],
   "source": [
    "# --- Feature Engineering ---\n",
    "df['TotalPrice'] = df['Quantity'] * df['UnitPrice']\n",
    "\n",
    "# More granular time features\n",
    "df['InvoiceYear'] = df['InvoiceDate'].dt.year\n",
    "df['InvoiceMonth'] = df['InvoiceDate'].dt.month\n",
    "df['InvoiceDay'] = df['InvoiceDate'].dt.day\n",
    "df['InvoiceHour'] = df['InvoiceDate'].dt.hour\n",
    "df['InvoiceDayOfWeek'] = df['InvoiceDate'].dt.dayofweek\n",
    "\n",
    "df['InvoiceYearMonth'] = df['InvoiceDate'].dt.to_period('M')\n",
    "\n",
    "# Calculate Recency (days since last purchase)\n",
    "latest_date = df['InvoiceDate'].max()\n",
    "recency_df = df.groupby('CustomerID')['InvoiceDate'].max().reset_index()\n",
    "recency_df['Recency'] = (latest_date - recency_df['InvoiceDate']).dt.days\n",
    "customer_clv = df.groupby('CustomerID').agg({\n",
    "    'TotalPrice': 'sum',\n",
    "    'InvoiceNo': 'count',\n",
    "    'Quantity': 'sum'\n",
    "})\n",
    "customer_clv.rename(columns={'TotalPrice': 'TotalSpent', 'InvoiceNo': 'PurchaseFrequency', 'Quantity': 'TotalQuantity'}, inplace=True)\n",
    "\n",
    "customer_clv = customer_clv.merge(recency_df[['CustomerID', 'Recency']], on='CustomerID', how='left')\n",
    "\n",
    "print(\"\\nFeature Engineering completed\")"
   ]
  },
  {
   "cell_type": "code",
   "execution_count": null,
   "metadata": {},
   "outputs": [],
   "source": [
    "# --- CLV Category Creation ---\n",
    "# You can adjust the number of quantiles as needed (e.g., q=4 for quartiles)\n",
    "customer_clv['CLV_Category'] = pd.qcut(customer_clv['TotalSpent'], q=3, labels=['Low', 'Medium', 'High'])\n",
    "\n",
    "print(\"\\nCLV Categories created\")"
   ]
  },
  {
   "cell_type": "code",
   "execution_count": null,
   "metadata": {},
   "outputs": [],
   "source": [
    "# Display the first few rows of the processed data\n",
    "print(\"\\nProcessed Data Sample:\")\n",
    "print(customer_clv.head())"
   ]
  },
  {
   "cell_type": "code",
   "execution_count": 6,
   "metadata": {},
   "outputs": [],
   "source": [
    "# Data Cleaning\n",
    "df.dropna(inplace=True)\n",
    "df = df[df['Quantity'] > 0]\n",
    "df = df[df['UnitPrice'] > 0]\n",
    "df['InvoiceDate'] = pd.to_datetime(df['InvoiceDate'])\n",
    "df['CustomerID'] = df['CustomerID'].astype(int)\n"
   ]
  },
  {
   "cell_type": "code",
   "execution_count": 7,
   "metadata": {},
   "outputs": [],
   "source": [
    "# Feature Engineering\n",
    "df['TotalPrice'] = df['Quantity'] * df['UnitPrice']\n",
    "df['InvoiceYearMonth'] = df['InvoiceDate'].dt.to_period('M')\n",
    "customer_clv = df.groupby('CustomerID').agg({\n",
    "    'TotalPrice': 'sum',\n",
    "    'InvoiceNo': 'count',\n",
    "    'Quantity': 'sum'\n",
    "})\n",
    "customer_clv.rename(columns={'TotalPrice': 'TotalSpent', 'InvoiceNo': 'PurchaseFrequency', 'Quantity': 'TotalQuantity'}, inplace=True)\n",
    "#for model training because it divides your customers into three quantiles (Low, Medium, High) with equal counts\n",
    "customer_clv['CLV_Category'] = pd.qcut(customer_clv['TotalSpent'], q=3, labels=['Low', 'Medium', 'High'])\n",
    "\n"
   ]
  },
  {
   "cell_type": "code",
   "execution_count": 8,
   "metadata": {},
   "outputs": [],
   "source": [
    "# Encoding labels\n",
    "le = LabelEncoder()\n",
    "customer_clv['CLV_Category'] = le.fit_transform(customer_clv['CLV_Category'])"
   ]
  },
  {
   "cell_type": "code",
   "execution_count": 9,
   "metadata": {},
   "outputs": [
    {
     "name": "stdout",
     "output_type": "stream",
     "text": [
      "Customer counts by custom CLV category:\n",
      "CLV_Category_Custom\n",
      "Low       2670\n",
      "Medium    1393\n",
      "High       275\n",
      "Name: count, dtype: int64\n"
     ]
    },
    {
     "data": {
      "image/png": "[encoded data removed]",
      "text/plain": [
       "<Figure size 800x500 with 1 Axes>"
      ]
     },
     "metadata": {},
     "output_type": "display_data"
    }
   ],
   "source": [
    "#intended for visualizing the natural distribution of  data based on defined thresholds. \n",
    "# Determine the maximum TotalSpent value\n",
    "max_val = customer_clv['TotalSpent'].max()\n",
    "\n",
    "# Check if max_val is greater than your threshold for 'Medium'\n",
    "if max_val <= 5000:\n",
    "    # If the max is too low, adjust bins to have 2 groups (Low and High)\n",
    "    bins = [0, 1000, max_val + 1]  # +1 to ensure strictly increasing\n",
    "    labels = ['Low', 'High']\n",
    "else:\n",
    "    bins = [0, 1000, 5000, max_val + 1]  # +1 to ensure the last bin edge is greater than the previous one\n",
    "    labels = ['Low', 'Medium', 'High']\n",
    "\n",
    "# Create the custom CLV category using pd.cut with the adjusted bins\n",
    "customer_clv['CLV_Category_Custom'] = pd.cut(customer_clv['TotalSpent'], bins=bins, labels=labels, include_lowest=True)\n",
    "\n",
    "# Calculate and print the counts for each category\n",
    "counts_custom = customer_clv['CLV_Category_Custom'].value_counts().sort_index()\n",
    "print(\"Customer counts by custom CLV category:\")\n",
    "print(counts_custom)\n",
    "\n",
    "# Plot the actual counts using a bar graph\n",
    "import matplotlib.pyplot as plt\n",
    "\n",
    "plt.figure(figsize=(8, 5))\n",
    "counts_custom.plot(kind='bar', color=['skyblue', 'orange', 'green'] if len(labels)==3 else ['skyblue', 'orange'])\n",
    "plt.xlabel('CLV Category')\n",
    "plt.ylabel('Number of Customers')\n",
    "plt.title('Number of Customers in Each CLV Category (Custom Bins)')\n",
    "plt.show()\n"
   ]
  },
  {
   "cell_type": "code",
   "execution_count": 10,
   "metadata": {},
   "outputs": [],
   "source": [
    "# Splitting data\n",
    "X = customer_clv[['PurchaseFrequency', 'TotalQuantity']]\n",
    "y = customer_clv['CLV_Category']\n",
    "X_train, X_test, y_train, y_test = train_test_split(X, y, test_size=0.2, random_state=42)"
   ]
  },
  {
   "cell_type": "code",
   "execution_count": 11,
   "metadata": {},
   "outputs": [],
   "source": [
    "\n",
    "\n",
    "# Scaling features\n",
    "scaler = StandardScaler()\n",
    "X_train = scaler.fit_transform(X_train)\n",
    "X_test = scaler.transform(X_test)"
   ]
  },
  {
   "cell_type": "code",
   "execution_count": 12,
   "metadata": {},
   "outputs": [
    {
     "name": "stdout",
     "output_type": "stream",
     "text": [
      "Random Forest Accuracy: 0.793778801843318\n",
      "Classification Report (Random Forest):\n",
      "               precision    recall  f1-score   support\n",
      "\n",
      "           0       0.88      0.87      0.87       288\n",
      "           1       0.77      0.85      0.81       276\n",
      "           2       0.74      0.67      0.70       304\n",
      "\n",
      "    accuracy                           0.79       868\n",
      "   macro avg       0.79      0.80      0.79       868\n",
      "weighted avg       0.79      0.79      0.79       868\n",
      "\n"
     ]
    }
   ],
   "source": [
    "# Model Training with Random Forest\n",
    "rf_clf = RandomForestClassifier(n_estimators=100, random_state=42)\n",
    "rf_clf.fit(X_train, y_train)\n",
    "y_pred_rf = rf_clf.predict(X_test)\n",
    "print(\"Random Forest Accuracy:\", accuracy_score(y_test, y_pred_rf))\n",
    "print(\"Classification Report (Random Forest):\\n\", classification_report(y_test, y_pred_rf))"
   ]
  },
  {
   "cell_type": "code",
   "execution_count": 13,
   "metadata": {},
   "outputs": [
    {
     "name": "stdout",
     "output_type": "stream",
     "text": [
      "AdaBoost Accuracy: 0.7880184331797235\n",
      "Classification Report (AdaBoost):\n",
      "               precision    recall  f1-score   support\n",
      "\n",
      "           0       0.86      0.86      0.86       288\n",
      "           1       0.79      0.82      0.81       276\n",
      "           2       0.71      0.69      0.70       304\n",
      "\n",
      "    accuracy                           0.79       868\n",
      "   macro avg       0.79      0.79      0.79       868\n",
      "weighted avg       0.79      0.79      0.79       868\n",
      "\n"
     ]
    }
   ],
   "source": [
    "# Model Training with AdaBoost\n",
    "ada_clf = AdaBoostClassifier(n_estimators=100, random_state=42)\n",
    "ada_clf.fit(X_train, y_train)\n",
    "y_pred_ada = ada_clf.predict(X_test)\n",
    "print(\"AdaBoost Accuracy:\", accuracy_score(y_test, y_pred_ada))\n",
    "print(\"Classification Report (AdaBoost):\\n\", classification_report(y_test, y_pred_ada))\n"
   ]
  },
  {
   "cell_type": "code",
   "execution_count": 14,
   "metadata": {},
   "outputs": [
    {
     "name": "stdout",
     "output_type": "stream",
     "text": [
      "Gradient Boosting Accuracy: 0.8110599078341014\n",
      "Classification Report (Gradient Boosting):\n",
      "               precision    recall  f1-score   support\n",
      "\n",
      "           0       0.90      0.86      0.88       288\n",
      "           1       0.78      0.89      0.83       276\n",
      "           2       0.76      0.69      0.72       304\n",
      "\n",
      "    accuracy                           0.81       868\n",
      "   macro avg       0.81      0.81      0.81       868\n",
      "weighted avg       0.81      0.81      0.81       868\n",
      "\n"
     ]
    }
   ],
   "source": [
    "# Model Training with Gradient Boosting\n",
    "gb_clf = GradientBoostingClassifier(n_estimators=100, random_state=42)\n",
    "gb_clf.fit(X_train, y_train)\n",
    "y_pred_gb = gb_clf.predict(X_test)\n",
    "print(\"Gradient Boosting Accuracy:\", accuracy_score(y_test, y_pred_gb))\n",
    "print(\"Classification Report (Gradient Boosting):\\n\", classification_report(y_test, y_pred_gb))"
   ]
  },
  {
   "cell_type": "code",
   "execution_count": 15,
   "metadata": {},
   "outputs": [
    {
     "name": "stdout",
     "output_type": "stream",
     "text": [
      "Histogram-Based Gradient Boosting Accuracy: 0.793778801843318\n",
      "Classification Report (Histogram-Based Gradient Boosting):\n",
      "               precision    recall  f1-score   support\n",
      "\n",
      "           0       0.88      0.85      0.86       288\n",
      "           1       0.77      0.87      0.82       276\n",
      "           2       0.73      0.67      0.70       304\n",
      "\n",
      "    accuracy                           0.79       868\n",
      "   macro avg       0.79      0.80      0.79       868\n",
      "weighted avg       0.79      0.79      0.79       868\n",
      "\n"
     ]
    }
   ],
   "source": [
    "# Model Training with Histogram-Based Gradient Boosting\n",
    "hgb_clf = HistGradientBoostingClassifier(max_iter=100, random_state=42)\n",
    "hgb_clf.fit(X_train, y_train)\n",
    "y_pred_hgb = hgb_clf.predict(X_test)\n",
    "print(\"Histogram-Based Gradient Boosting Accuracy:\", accuracy_score(y_test, y_pred_hgb))\n",
    "print(\"Classification Report (Histogram-Based Gradient Boosting):\\n\", classification_report(y_test, y_pred_hgb))\n"
   ]
  },
  {
   "cell_type": "code",
   "execution_count": 16,
   "metadata": {},
   "outputs": [
    {
     "data": {
      "image/png": "[encoded data removed]",
      "text/plain": [
       "<Figure size 2000x500 with 8 Axes>"
      ]
     },
     "metadata": {},
     "output_type": "display_data"
    }
   ],
   "source": [
    "\n",
    "fig, axes = plt.subplots(1, 4, figsize=(20, 5))  # Adjusted figsize\n",
    "\n",
    "sns.heatmap(confusion_matrix(y_test, y_pred_rf), annot=True, fmt='d', ax=axes[0])\n",
    "axes[0].set_title(\"Random Forest\")\n",
    "\n",
    "sns.heatmap(confusion_matrix(y_test, y_pred_ada), annot=True, fmt='d', ax=axes[1])\n",
    "axes[1].set_title(\"AdaBoost\")\n",
    "\n",
    "sns.heatmap(confusion_matrix(y_test, y_pred_gb), annot=True, fmt='d', ax=axes[2])\n",
    "axes[2].set_title(\"Gradient Boosting\")\n",
    "\n",
    "sns.heatmap(confusion_matrix(y_test, y_pred_hgb), annot=True, fmt='d', ax=axes[3])  # Changed from axes[4] to axes[3]\n",
    "axes[3].set_title(\"Hist Gradient Boosting\")\n",
    "\n",
    "plt.show()"
   ]
  },
  {
   "cell_type": "code",
   "execution_count": 24,
   "metadata": {},
   "outputs": [
    {
     "name": "stdout",
     "output_type": "stream",
     "text": [
      "\n",
      "--- Random Forest ---\n",
      "Metrics from Confusion Matrix:\n",
      "  Accuracy:  0.5230\n",
      "  Precision: 0.5305\n",
      "  Recall:    0.4902\n",
      "  F1-score:  0.5096\n",
      "\n",
      "Metrics from scikit-learn:\n",
      "  Accuracy:  0.5230\n",
      "  Precision: 0.5305\n",
      "  Recall:    0.4902\n",
      "  F1-score:  0.5096\n",
      "\n",
      "Classification Report:\n",
      "              precision    recall  f1-score   support\n",
      "\n",
      "           0       0.52      0.56      0.54       451\n",
      "           1       0.53      0.49      0.51       461\n",
      "\n",
      "    accuracy                           0.52       912\n",
      "   macro avg       0.52      0.52      0.52       912\n",
      "weighted avg       0.52      0.52      0.52       912\n",
      "\n",
      "\n",
      "--- AdaBoost ---\n",
      "Metrics from Confusion Matrix:\n",
      "  Accuracy:  0.5199\n",
      "  Precision: 0.5465\n",
      "  Recall:    0.4939\n",
      "  F1-score:  0.5188\n",
      "\n",
      "Metrics from scikit-learn:\n",
      "  Accuracy:  0.5199\n",
      "  Precision: 0.5465\n",
      "  Recall:    0.4939\n",
      "  F1-score:  0.5188\n",
      "\n",
      "Classification Report:\n",
      "              precision    recall  f1-score   support\n",
      "\n",
      "           0       0.50      0.55      0.52       443\n",
      "           1       0.55      0.49      0.52       488\n",
      "\n",
      "    accuracy                           0.52       931\n",
      "   macro avg       0.52      0.52      0.52       931\n",
      "weighted avg       0.52      0.52      0.52       931\n",
      "\n",
      "\n",
      "--- Gradient Boosting ---\n",
      "Metrics from Confusion Matrix:\n",
      "  Accuracy:  0.5199\n",
      "  Precision: 0.5465\n",
      "  Recall:    0.4939\n",
      "  F1-score:  0.5188\n",
      "\n",
      "Metrics from scikit-learn:\n",
      "  Accuracy:  0.5199\n",
      "  Precision: 0.5465\n",
      "  Recall:    0.4939\n",
      "  F1-score:  0.5188\n",
      "\n",
      "Classification Report:\n",
      "              precision    recall  f1-score   support\n",
      "\n",
      "           0       0.50      0.55      0.52       443\n",
      "           1       0.55      0.49      0.52       488\n",
      "\n",
      "    accuracy                           0.52       931\n",
      "   macro avg       0.52      0.52      0.52       931\n",
      "weighted avg       0.52      0.52      0.52       931\n",
      "\n",
      "\n",
      "--- HistGradientBoosting ---\n",
      "Metrics from Confusion Matrix:\n",
      "  Accuracy:  0.5199\n",
      "  Precision: 0.5465\n",
      "  Recall:    0.4939\n",
      "  F1-score:  0.5188\n",
      "\n",
      "Metrics from scikit-learn:\n",
      "  Accuracy:  0.5199\n",
      "  Precision: 0.5465\n",
      "  Recall:    0.4939\n",
      "  F1-score:  0.5188\n",
      "\n",
      "Classification Report:\n",
      "              precision    recall  f1-score   support\n",
      "\n",
      "           0       0.50      0.55      0.52       443\n",
      "           1       0.55      0.49      0.52       488\n",
      "\n",
      "    accuracy                           0.52       931\n",
      "   macro avg       0.52      0.52      0.52       931\n",
      "weighted avg       0.52      0.52      0.52       931\n",
      "\n"
     ]
    }
   ],
   "source": [
    "rf_cm = np.array([[251, 200], [235, 226]])  # Random Forest\n",
    "ada_cm = np.array([[243, 200], [247, 241]])  # AdaBoost\n",
    "gb_cm = np.array([[243, 200], [247, 241]])  # Gradient Boosting\n",
    "hgb_cm = np.array([[243, 200], [247, 241]])  # HistGradientBoosting\n",
    "\n",
    "# --- Function to calculate metrics from confusion matrix ---\n",
    "def calculate_metrics(cm):\n",
    "    \"\"\"Calculates accuracy, precision, recall, and F1-score from a confusion matrix.\"\"\"\n",
    "\n",
    "    # Extract TP, TN, FP, FN\n",
    "    TN = cm[0, 0]\n",
    "    FP = cm[0, 1]\n",
    "    FN = cm[1, 0]\n",
    "    TP = cm[1, 1]\n",
    "\n",
    "    # Calculate metrics\n",
    "    accuracy = (TP + TN) / np.sum(cm)\n",
    "    precision = TP / (TP + FP) if (TP + FP) > 0 else 0  # Handle division by zero\n",
    "    recall = TP / (TP + FN) if (TP + FN) > 0 else 0     # Handle division by zero\n",
    "    f1 = 2 * (precision * recall) / (precision + recall) if (precision + recall) > 0 else 0 # Handle division by zero\n",
    "\n",
    "    return accuracy, precision, recall, f1\n",
    "\n",
    "# --- Evaluate each model ---\n",
    "cms = {\n",
    "    \"Random Forest\": rf_cm,\n",
    "    \"AdaBoost\": ada_cm,\n",
    "    \"Gradient Boosting\": gb_cm,\n",
    "    \"HistGradientBoosting\": hgb_cm\n",
    "}\n",
    "\n",
    "for model_name, cm in cms.items():\n",
    "    print(f\"\\n--- {model_name} ---\")\n",
    "\n",
    "    # Calculate metrics using confusion matrix\n",
    "    accuracy, precision, recall, f1 = calculate_metrics(cm)\n",
    "    print(\"Metrics from Confusion Matrix:\")\n",
    "    print(f\"  Accuracy:  {accuracy:.4f}\")\n",
    "    print(f\"  Precision: {precision:.4f}\")\n",
    "    print(f\"  Recall:    {recall:.4f}\")\n",
    "    print(f\"  F1-score:  {f1:.4f}\")\n",
    "\n",
    "    # --- Evaluate using scikit-learn functions ---\n",
    "    # To use scikit-learn metrics, you need the true labels (y_true) and predicted labels (y_pred)\n",
    "    # You can reconstruct these from the confusion matrix (but it's more common to have them directly)\n",
    "\n",
    "    # Example reconstruction (assuming class 1 is the \"positive\" class)\n",
    "    y_true = np.concatenate(([0] * (cm[0, 0] + cm[0, 1]), [1] * (cm[1, 0] + cm[1, 1])))\n",
    "    y_pred = np.concatenate(([0] * cm[0, 0], [1] * cm[0, 1], [0] * cm[1, 0], [1] * cm[1, 1]))\n",
    "\n",
    "    print(\"\\nMetrics from scikit-learn:\")\n",
    "    print(f\"  Accuracy:  {accuracy_score(y_true, y_pred):.4f}\")\n",
    "    print(f\"  Precision: {precision_score(y_true, y_pred):.4f}\")\n",
    "    print(f\"  Recall:    {recall_score(y_true, y_pred):.4f}\")\n",
    "    print(f\"  F1-score:  {f1_score(y_true, y_pred):.4f}\")\n",
    "\n",
    "    # Print Classification Report\n",
    "    print(\"\\nClassification Report:\")\n",
    "    print(classification_report(y_true, y_pred))"
   ]
  },
  {
   "cell_type": "code",
   "execution_count": null,
   "metadata": {},
   "outputs": [],
   "source": []
  }
 ],
 "metadata": {
  "kernelspec": {
   "display_name": "venv",
   "language": "python",
   "name": "python3"
  },
  "language_info": {
   "codemirror_mode": {
    "name": "ipython",
    "version": 3
   },
   "file_extension": ".py",
   "mimetype": "text/x-python",
   "name": "python",
   "nbconvert_exporter": "python",
   "pygments_lexer": "ipython3",
   "version": "3.13.2"
  }
 },
 "nbformat": 4,
 "nbformat_minor": 2
}
